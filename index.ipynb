{
 "cells": [
  {
   "cell_type": "markdown",
   "metadata": {},
   "source": [
    "# Yelp API - Lab\n",
    "\n",
    "\n",
    "## Introduction \n",
    "\n",
    "Now that we've seen how the Yelp API works and some basic Folium visualizations, it's time to put those skills to work in order to create a working map! Taking things a step further, you'll also independently explore how to perform pagination in order to retrieve a full results set from the Yelp API!\n",
    "\n",
    "## Objectives\n",
    "\n",
    "You will be able to: \n",
    "* Create HTTP requests to get data from Yelp API\n",
    "* Parse HTTP responses and perform data analysis on the data returned\n",
    "* Perform pagination to retrieve troves of data!\n",
    "* Create a simple geographical system on to view information about selected businesses, at a given location. \n",
    "\n",
    "## Problem Introduction\n",
    "\n",
    "You've now worked with some API calls, but we have yet to see how to retrieve a more complete dataset in a programmatic manner. Returning to the Yelp API, the [documentation](https://www.yelp.com/developers/documentation/v3/business_search) also provides us details regarding the API limits. These often include details about the number of requests a user is allowed to make within a specified time limit and the maximum number of results to be returned. In this case, we are told that any request has a maximum of 50 results per request and defaults to 20. Furthermore, any search will be limited to a total of 1000 results. To retrieve all 1000 of these results, we would have to page through the results piece by piece, retrieving 50 at a time. Processes such as these are often referred to as pagination.\n",
    "\n",
    "In this lab, you will define a search and then paginate over the results to retrieve all of the results. You'll then parse these responses as a DataFrame (for further exploration) and create a map using Folium to visualize the results geographically.\n",
    "\n",
    "## Part I - Make the Initial Request\n",
    "\n",
    "Start by making an initial request to the Yelp API. Your search must include at least 2 parameters: **term** and **location**. For example, you might search for pizza restaurants in NYC. The term and location is up to you, but make the request below."
   ]
  },
  {
   "cell_type": "code",
   "execution_count": 10,
   "metadata": {},
   "outputs": [
    {
     "name": "stdout",
     "output_type": "stream",
     "text": [
      "<Response [200]>\n",
      "<class 'str'>\n",
      "{\"businesses\": [{\"id\": \"XLks2jXfslR0SzqFlUa6rw\", \"alias\": \"best-pizza-shop-astoria\", \"name\": \"Best Pizza Shop\", \"image_url\": \"https://s3-media3.fl.yelpcdn.com/bphoto/nwvuqgPt-blJd1aSjVIk3g/o.jpg\", \"is_closed\": false, \"url\": \"https://www.yelp.com/biz/best-pizza-shop-astoria?adjust_creative=iEXu7BUNcTo-6yLg1mmUWw&utm_campaign=yelp_api_v3&utm_medium=api_v3_business_search&utm_source=iEXu7BUNcTo-6yLg1mmUWw\", \"review_count\": 15, \"categories\": [{\"alias\": \"pizza\", \"title\": \"Pizza\"}], \"rating\": 4.0, \"coordinates\": {\"latitude\": 40.7589, \"longitude\": -73.92601}, \"transactions\": [\"pickup\", \"delivery\"], \"location\": {\"address1\": \"32-20 34th Ave\", \"address2\": \"\", \"address3\": null, \"city\": \"Astoria\", \"zip_code\": \"11106\", \"country\": \"US\", \"state\": \"NY\", \"display_address\": [\"32-20 34th Ave\", \"Astoria, NY 11106\"]}, \"phone\": \"\", \"display_phone\": \"\", \"distance\": 940.408731641847}, {\"id\": \"1OZPOWZwJr-hpvMt6TD4ug\", \"alias\": \"milkflower-astoria\", \"name\": \"Milkflower\", \"image_url\": \"https://s3-media3.fl.yelpcdn.com/bphoto/SQG1kIYmNDRRoP35Xo6jPw/o.jpg\", \"is_closed\": false, \"url\": \"https://www.yelp.com/biz/milkflower-astoria?adjust_creative=iEXu7BUNcTo-6yLg1mmUWw&utm_campaign=yelp_api_v3&utm_medium=api_v3_business_search&utm_source=iEXu7BUNcTo-6yLg1mmUWw\", \"review_count\": 590, \"categories\": [{\"alias\": \"pizza\", \"title\": \"Pizza\"}], \"rating\": 4.5, \"coordinates\": {\"latitude\": 40.7628961, \"longitude\": -73.9207081}, \"transactions\": [], \"price\": \"$$\", \"location\": {\"address1\": \"3412 31st Ave\", \"address2\": \"\", \"address3\": \"\", \"city\": \"Astoria\", \"zip_code\": \"11106\", \"country\": \"US\", \"state\": \"NY\", \"display_address\": [\"3412 31st Ave\", \"Astoria, NY 11106\"]}, \"phone\": \"+17182041300\", \"display_phone\": \"(718) 204-1300\", \"distance\": 461.29478276677247}, {\"id\": \"hB2S1y5T9ufMz5ksHHhdIA\", \"alias\": \"rizzos-fine-pizza-astoria\", \"name\": \"Rizzo's Fine Pizza\", \"image_url\": \"https://s3-media3.fl.yelpcdn.com/bphoto/p1IQ1wEKfMulok2-ycS98w/o.jpg\", \"is_closed\": false, \"url\": \"https://www.yelp.com/biz/rizzos-fine-pizza-astoria?adjust_creative=iEXu7BUNcTo-6yLg1mmUWw&utm_campaign=yelp_api_v3&utm_medium=api_v3_business_search&utm_source=iEXu7BUNcTo-6yLg1mmUWw\", \"review_count\": 564, \"categories\": [{\"alias\": \"pizza\", \"title\": \"Pizza\"}], \"rating\": 4.0, \"coordinates\": {\"latitude\": 40.76335, \"longitude\": -73.91516}, \"transactions\": [\"pickup\", \"delivery\"], \"price\": \"$\", \"location\": {\"address1\": \"3013 Steinway St\", \"address2\": \"\", \"address3\": \"\", \"city\": \"Astoria\", \"zip_code\": \"11103\", \"country\": \"US\", \"state\": \"NY\", \"display_address\": [\"3013 Steinway St\", \"Astoria, NY 11103\"]}, \"phone\": \"+17187219862\", \"display_phone\": \"(718) 721-9862\", \"distance\": 713.1611085114456}, {\"id\": \"Y3xDbSHXs6apMA4JLGJZ1Q\", \"alias\": \"sacs-place-astoria\", \"name\": \"Sac's Place\", \"image_url\": \"https://s3-media3.fl.yelpcdn.com/bphoto/DvDlQ_XtdUlu46M3-9IdGA/o.jpg\", \"is_closed\": false, \"url\": \"https://www.yelp.com/biz/sacs-place-astoria?adjust_creative=iEXu7BUNcTo-6yLg1mmUWw&utm_campaign=yelp_api_v3&utm_medium=api_v3_business_search&utm_source=iEXu7BUNcTo-6yLg1mmUWw\", \"review_count\": 460, \"categories\": [{\"alias\": \"pizza\", \"title\": \"Pizza\"}, {\"alias\": \"italian\", \"title\": \"Italian\"}], \"rating\": 4.0, \"coordinates\": {\"latitude\": 40.7628982173022, \"longitude\": -73.9270855469213}, \"transactions\": [\"pickup\", \"delivery\"], \"price\": \"$$\", \"location\": {\"address1\": \"2541 Broadway\", \"address2\": \"\", \"address3\": \"\", \"city\": \"Astoria\", \"zip_code\": \"11106\", \"country\": \"US\", \"state\": \"NY\", \"display_address\": [\"2541 Broadway\", \"Astoria, NY 11106\"]}, \"phone\": \"+17182045002\", \"display_phone\": \"(718) 204-5002\", \"distance\": 605.3955133407472}, {\"id\": \"KjlNK_o3kWtsjsIx6ZgF0A\", \"alias\": \"mela-pizza-house-astoria\", \"name\": \"Mela Pizza House\", \"image_url\": \"https://s3-media2.fl.yelpcdn.com/bphoto/2O0JuHvveQW7SJnZFSq0pA/o.jpg\", \"is_closed\": false, \"url\": \"https://www.yelp.com/biz/mela-pizza-house-astoria?adjust_creative=iEXu7BUNcTo-6yLg1mmUWw&utm_campaign=yelp_api_v3&utm_medium=api_v3_business_search&utm_source=iEXu7BUNcTo-6yLg1mmUWw\", \"review_count\": 26, \"categories\": [{\"alias\": \"pizza\", \"title\": \"Pizza\"}], \"rating\": 4.0, \"coordinates\": {\"latitude\": 40.76765, \"longitude\": -73.92056}, \"transactions\": [\"pickup\", \"delivery\"], \"price\": \"$\", \"location\": {\"address1\": \"31-01 Newtown Ave\", \"address2\": null, \"address3\": \"\", \"city\": \"Astoria\", \"zip_code\": \"11102\", \"country\": \"US\", \"state\": \"NY\", \"display_address\": [\"31-01 Newtown Ave\", \"Astoria, NY 11102\"]}, \"phone\": \"+17187775533\", \"display_phone\": \"(718) 777-5533\", \"distance\": 159.96982755249232}, {\"id\": \"JjpCF17AxF6RPOyimw21cw\", \"alias\": \"basil-brick-oven-pizza-astoria\", \"name\": \"Basil Brick Oven Pizza\", \"image_url\": \"https://s3-media1.fl.yelpcdn.com/bphoto/VLm8YK7tiHPEopFm4g8HBw/o.jpg\", \"is_closed\": false, \"url\": \"https://www.yelp.com/biz/basil-brick-oven-pizza-astoria?adjust_creative=iEXu7BUNcTo-6yLg1mmUWw&utm_campaign=yelp_api_v3&utm_medium=api_v3_business_search&utm_source=iEXu7BUNcTo-6yLg1mmUWw\", \"review_count\": 466, \"categories\": [{\"alias\": \"pizza\", \"title\": \"Pizza\"}, {\"alias\": \"italian\", \"title\": \"Italian\"}], \"rating\": 4.0, \"coordinates\": {\"latitude\": 40.770946, \"longitude\": -73.92001}, \"transactions\": [\"pickup\", \"delivery\"], \"price\": \"$$\", \"location\": {\"address1\": \"28-17 Astoria Blvd\", \"address2\": \"\", \"address3\": \"\", \"city\": \"Astoria\", \"zip_code\": \"11102\", \"country\": \"US\", \"state\": \"NY\", \"display_address\": [\"28-17 Astoria Blvd\", \"Astoria, NY 11102\"]}, \"phone\": \"+17182041205\", \"display_phone\": \"(718) 204-1205\", \"distance\": 487.24044911952564}, {\"id\": \"Lw58gDv9ipwtOcg2EIJp3w\", \"alias\": \"napoli-pizza-and-pasta-astoria-4\", \"name\": \"Napoli Pizza & Pasta\", \"image_url\": \"https://s3-media3.fl.yelpcdn.com/bphoto/os_QgpEJ09atbahehepcHw/o.jpg\", \"is_closed\": false, \"url\": \"https://www.yelp.com/biz/napoli-pizza-and-pasta-astoria-4?adjust_creative=iEXu7BUNcTo-6yLg1mmUWw&utm_campaign=yelp_api_v3&utm_medium=api_v3_business_search&utm_source=iEXu7BUNcTo-6yLg1mmUWw\", \"review_count\": 288, \"categories\": [{\"alias\": \"pizza\", \"title\": \"Pizza\"}, {\"alias\": \"italian\", \"title\": \"Italian\"}], \"rating\": 4.0, \"coordinates\": {\"latitude\": 40.75718, \"longitude\": -73.92686}, \"transactions\": [\"pickup\", \"delivery\"], \"price\": \"$\", \"location\": {\"address1\": \"33-02 35th Ave\", \"address2\": \"\", \"address3\": \"\", \"city\": \"Astoria\", \"zip_code\": \"11106\", \"country\": \"US\", \"state\": \"NY\", \"display_address\": [\"33-02 35th Ave\", \"Astoria, NY 11106\"]}, \"phone\": \"+17184721146\", \"display_phone\": \"(718) 472-1146\", \"distance\": 1148.0158159813755}, {\"id\": \"p-BHJdQ57eM-WlKTP7B44w\", \"alias\": \"antika-pizzeria-astoria\", \"name\": \"Antika Pizzeria\", \"image_url\": \"https://s3-media1.fl.yelpcdn.com/bphoto/J8GkgDT2A3BKon_o_TH_MA/o.jpg\", \"is_closed\": false, \"url\": \"https://www.yelp.com/biz/antika-pizzeria-astoria?adjust_creative=iEXu7BUNcTo-6yLg1mmUWw&utm_campaign=yelp_api_v3&utm_medium=api_v3_business_search&utm_source=iEXu7BUNcTo-6yLg1mmUWw\", \"review_count\": 407, \"categories\": [{\"alias\": \"italian\", \"title\": \"Italian\"}, {\"alias\": \"pizza\", \"title\": \"Pizza\"}], \"rating\": 4.0, \"coordinates\": {\"latitude\": 40.76466, \"longitude\": -73.91722}, \"transactions\": [\"pickup\", \"delivery\"], \"price\": \"$$\", \"location\": {\"address1\": \"36-08 30th Ave\", \"address2\": null, \"address3\": \"\", \"city\": \"Astoria\", \"zip_code\": \"11106\", \"country\": \"US\", \"state\": \"NY\", \"display_address\": [\"36-08 30th Ave\", \"Astoria, NY 11106\"]}, \"phone\": \"+17185450555\", \"display_phone\": \"(718) 545-0555\", \"distance\": 486.67477316084086}, {\"id\": \"5Uo_a_Kl53O_yKglSR5nBA\", \"alias\": \"rosas-pizza-astoria\", \"name\": \"Rosa's Pizza\", \"image_url\": \"https://s3-media3.fl.yelpcdn.com/bphoto/6VImxkt8BXf4ORpkAl0lUQ/o.jpg\", \"is_closed\": false, \"url\": \"https://www.yelp.com/biz/rosas-pizza-astoria?adjust_creative=iEXu7BUNcTo-6yLg1mmUWw&utm_campaign=yelp_api_v3&utm_medium=api_v3_business_search&utm_source=iEXu7BUNcTo-6yLg1mmUWw\", \"review_count\": 68, \"categories\": [{\"alias\": \"pizza\", \"title\": \"Pizza\"}], \"rating\": 4.5, \"coordinates\": {\"latitude\": 40.7671877, \"longitude\": -73.9299668}, \"transactions\": [], \"price\": \"$$\", \"location\": {\"address1\": \"31-1 21st St\", \"address2\": \"\", \"address3\": null, \"city\": \"Astoria\", \"zip_code\": \"11106\", \"country\": \"US\", \"state\": \"NY\", \"display_address\": [\"31-1 21st St\", \"Astoria, NY 11106\"]}, \"phone\": \"+17187261296\", \"display_phone\": \"(718) 726-1296\", \"distance\": 655.3146255517358}, {\"id\": \"mSUN6AosDrAuM9H29qEhgg\", \"alias\": \"albas-pizza-and-restaurant-astoria\", \"name\": \"Alba's Pizza & Restaurant\", \"image_url\": \"https://s3-media4.fl.yelpcdn.com/bphoto/7skCFxA7DETKtmqiZr5huQ/o.jpg\", \"is_closed\": false, \"url\": \"https://www.yelp.com/biz/albas-pizza-and-restaurant-astoria?adjust_creative=iEXu7BUNcTo-6yLg1mmUWw&utm_campaign=yelp_api_v3&utm_medium=api_v3_business_search&utm_source=iEXu7BUNcTo-6yLg1mmUWw\", \"review_count\": 241, \"categories\": [{\"alias\": \"pizza\", \"title\": \"Pizza\"}, {\"alias\": \"italian\", \"title\": \"Italian\"}, {\"alias\": \"beerbar\", \"title\": \"Beer Bar\"}], \"rating\": 4.0, \"coordinates\": {\"latitude\": 40.77375, \"longitude\": -73.90778}, \"transactions\": [\"restaurant_reservation\", \"pickup\", \"delivery\"], \"price\": \"$$\", \"location\": {\"address1\": \"3620 Ditmars Blvd\", \"address2\": \"\", \"address3\": \"\", \"city\": \"Astoria\", \"zip_code\": \"11105\", \"country\": \"US\", \"state\": \"NY\", \"display_address\": [\"3620 Ditmars Blvd\", \"Astoria, NY 11105\"]}, \"phone\": \"+17189325924\", \"display_phone\": \"(718) 932-5924\", \"distance\": 1440.2240099801356}], \"total\": 1000, \"region\": {\"center\": {\"longitude\": -73.92219543457031, \"latitude\": 40.76688875374591}}}\n"
     ]
    }
   ],
   "source": [
    "#Your code here\n",
    "\n",
    "client_id = 'iEXu7BUNcTo-6yLg1mmUWw'\n",
    "api_key = 'ZcZq3kyuENkE652OxCDHga6DM8KJDkM1XqGDLPnHD6FpEBs7nJPMiDc7AnTwNXy9W4SIhWLx3GBD4Nfj91J-fcHAsvTPYLh6R2eLaZuK552KIfrGDZRTWE-JiWASXXYx'\n",
    "\n",
    "import requests\n",
    "\n",
    "term = 'Pizza'\n",
    "location = 'Astoria NY'\n",
    "SEARCH_LIMIT = 10\n",
    "\n",
    "url = 'https://api.yelp.com/v3/businesses/search'\n",
    "\n",
    "headers = {\n",
    "        'Authorization': 'Bearer {}'.format(api_key),\n",
    "    }\n",
    "\n",
    "url_params = {\n",
    "                'term': term.replace(' ', '+'),\n",
    "                'location': location.replace(' ', '+'),\n",
    "                'limit': SEARCH_LIMIT\n",
    "            }\n",
    "response = requests.get(url, headers=headers, params=url_params)\n",
    "print(response)\n",
    "print(type(response.text))\n",
    "print(response.text)\n"
   ]
  },
  {
   "cell_type": "markdown",
   "metadata": {},
   "source": [
    "## Pagination\n",
    "\n",
    "Now that you have an initial response, you can examine the contents of the json container. For example, you might start with ```response.json().keys()```. Here, you'll see a key for `'total'`, which tells you the full number of matching results given your query parameters. Write a loop (or ideally a function) which then makes successive API calls using the offset parameter to retrieve all of the results (or 5000 for a particularly large result set) for the original query. As you do this, be mindful of how you store the data. Your final goal will be to reformat the data concerning the businesses themselves into a pandas DataFrame from the json objects.\n",
    "\n",
    "**Note: be mindful of the API rate limits. You can only make 5000 requests per day, and are also can make requests too fast. Start prototyping small before running a loop that could be faulty. You can also use time.sleep(n) to add delays. For more details see https://www.yelp.com/developers/documentation/v3/rate_limiting.**"
   ]
  },
  {
   "cell_type": "code",
   "execution_count": 11,
   "metadata": {},
   "outputs": [
    {
     "data": {
      "text/plain": [
       "dict_keys(['businesses', 'total', 'region'])"
      ]
     },
     "execution_count": 11,
     "metadata": {},
     "output_type": "execute_result"
    }
   ],
   "source": [
    "response.json().keys()"
   ]
  },
  {
   "cell_type": "code",
   "execution_count": 12,
   "metadata": {},
   "outputs": [
    {
     "data": {
      "text/plain": [
       "10"
      ]
     },
     "execution_count": 12,
     "metadata": {},
     "output_type": "execute_result"
    }
   ],
   "source": [
    "len(response.json()['businesses'])"
   ]
  },
  {
   "cell_type": "code",
   "execution_count": 13,
   "metadata": {},
   "outputs": [
    {
     "data": {
      "text/plain": [
       "1000"
      ]
     },
     "execution_count": 13,
     "metadata": {},
     "output_type": "execute_result"
    }
   ],
   "source": [
    "response.json()['total']"
   ]
  },
  {
   "cell_type": "code",
   "execution_count": 15,
   "metadata": {},
   "outputs": [
    {
     "name": "stdout",
     "output_type": "stream",
     "text": [
      "1000 total matches found.\n"
     ]
    },
    {
     "ename": "NameError",
     "evalue": "name 'yelp_call' is not defined",
     "output_type": "error",
     "traceback": [
      "\u001b[0;31m\u001b[0m",
      "\u001b[0;31mNameError\u001b[0mTraceback (most recent call last)",
      "\u001b[0;32m<ipython-input-15-997a4d8a4f83>\u001b[0m in \u001b[0;36m<module>\u001b[0;34m()\u001b[0m\n\u001b[1;32m     23\u001b[0m                 \u001b[0;34m'limit'\u001b[0m \u001b[0;34m:\u001b[0m \u001b[0;36m50\u001b[0m\u001b[0;34m\u001b[0m\u001b[0m\n\u001b[1;32m     24\u001b[0m              }\n\u001b[0;32m---> 25\u001b[0;31m \u001b[0mdf\u001b[0m \u001b[0;34m=\u001b[0m \u001b[0mall_results\u001b[0m\u001b[0;34m(\u001b[0m\u001b[0murl_params\u001b[0m\u001b[0;34m,\u001b[0m \u001b[0mapi_key\u001b[0m\u001b[0;34m)\u001b[0m\u001b[0;34m\u001b[0m\u001b[0m\n\u001b[0m\u001b[1;32m     26\u001b[0m \u001b[0mprint\u001b[0m\u001b[0;34m(\u001b[0m\u001b[0mlen\u001b[0m\u001b[0;34m(\u001b[0m\u001b[0mdf\u001b[0m\u001b[0;34m)\u001b[0m\u001b[0;34m)\u001b[0m\u001b[0;34m\u001b[0m\u001b[0m\n\u001b[1;32m     27\u001b[0m \u001b[0mdf\u001b[0m\u001b[0;34m.\u001b[0m\u001b[0mhead\u001b[0m\u001b[0;34m(\u001b[0m\u001b[0;34m)\u001b[0m\u001b[0;34m\u001b[0m\u001b[0m\n",
      "\u001b[0;32m<ipython-input-15-997a4d8a4f83>\u001b[0m in \u001b[0;36mall_results\u001b[0;34m(url_params, api_key)\u001b[0m\n\u001b[1;32m     11\u001b[0m     \u001b[0;32mwhile\u001b[0m \u001b[0mcur\u001b[0m \u001b[0;34m<\u001b[0m \u001b[0mnum\u001b[0m \u001b[0;32mand\u001b[0m \u001b[0mcur\u001b[0m \u001b[0;34m<\u001b[0m \u001b[0;36m1000\u001b[0m\u001b[0;34m:\u001b[0m\u001b[0;34m\u001b[0m\u001b[0m\n\u001b[1;32m     12\u001b[0m         \u001b[0murl_params\u001b[0m\u001b[0;34m[\u001b[0m\u001b[0;34m'offset'\u001b[0m\u001b[0;34m]\u001b[0m \u001b[0;34m=\u001b[0m \u001b[0mcur\u001b[0m\u001b[0;34m\u001b[0m\u001b[0m\n\u001b[0;32m---> 13\u001b[0;31m         \u001b[0mdfs\u001b[0m\u001b[0;34m.\u001b[0m\u001b[0mappend\u001b[0m\u001b[0;34m(\u001b[0m\u001b[0myelp_call\u001b[0m\u001b[0;34m(\u001b[0m\u001b[0murl_params\u001b[0m\u001b[0;34m,\u001b[0m \u001b[0mapi_key\u001b[0m\u001b[0;34m)\u001b[0m\u001b[0;34m)\u001b[0m\u001b[0;34m\u001b[0m\u001b[0m\n\u001b[0m\u001b[1;32m     14\u001b[0m         \u001b[0mtime\u001b[0m\u001b[0;34m.\u001b[0m\u001b[0msleep\u001b[0m\u001b[0;34m(\u001b[0m\u001b[0;36m1\u001b[0m\u001b[0;34m)\u001b[0m \u001b[0;31m#Wait a second\u001b[0m\u001b[0;34m\u001b[0m\u001b[0m\n\u001b[1;32m     15\u001b[0m         \u001b[0mcur\u001b[0m \u001b[0;34m+=\u001b[0m \u001b[0;36m50\u001b[0m\u001b[0;34m\u001b[0m\u001b[0m\n",
      "\u001b[0;31mNameError\u001b[0m: name 'yelp_call' is not defined"
     ]
    }
   ],
   "source": [
    "import pandas as pd\n",
    "\n",
    "df = pd.DataFrame(response.json()['businesses'])\n",
    "  \n",
    "\n",
    "def all_results(url_params, api_key):\n",
    "    num = response.json()['total']\n",
    "    print('{} total matches found.'.format(num))\n",
    "    cur = 0\n",
    "    dfs = []\n",
    "    while cur < num and cur < 1000:\n",
    "        url_params['offset'] = cur\n",
    "        dfs.append(yelp_call(url_params, api_key))\n",
    "        time.sleep(1) #Wait a second\n",
    "        cur += 50\n",
    "    df = pd.concat(dfs, ignore_index=True)\n",
    "    return df\n",
    "\n",
    "term = 'pizza'\n",
    "location = 'Astoria NY'\n",
    "url_params = {  'term': term.replace(' ', '+'),\n",
    "                'location': location.replace(' ', '+'),\n",
    "                'limit' : 50\n",
    "             }\n",
    "df = all_results(url_params, api_key)\n",
    "print(len(df))\n",
    "df.head()"
   ]
  },
  {
   "cell_type": "code",
   "execution_count": 2,
   "metadata": {},
   "outputs": [
    {
     "ename": "NameError",
     "evalue": "name 'response' is not defined",
     "output_type": "error",
     "traceback": [
      "\u001b[0;31m\u001b[0m",
      "\u001b[0;31mNameError\u001b[0mTraceback (most recent call last)",
      "\u001b[0;32m<ipython-input-2-6fc2906a0ede>\u001b[0m in \u001b[0;36m<module>\u001b[0;34m()\u001b[0m\n\u001b[1;32m      1\u001b[0m \u001b[0;32mimport\u001b[0m \u001b[0mpandas\u001b[0m \u001b[0;32mas\u001b[0m \u001b[0mpd\u001b[0m\u001b[0;34m\u001b[0m\u001b[0m\n\u001b[1;32m      2\u001b[0m \u001b[0;34m\u001b[0m\u001b[0m\n\u001b[0;32m----> 3\u001b[0;31m \u001b[0mdf\u001b[0m \u001b[0;34m=\u001b[0m \u001b[0mpd\u001b[0m\u001b[0;34m.\u001b[0m\u001b[0mDataFrame\u001b[0m\u001b[0;34m.\u001b[0m\u001b[0mfrom_dict\u001b[0m\u001b[0;34m(\u001b[0m\u001b[0mresponse\u001b[0m\u001b[0;34m.\u001b[0m\u001b[0mjson\u001b[0m\u001b[0;34m(\u001b[0m\u001b[0;34m)\u001b[0m\u001b[0;34m[\u001b[0m\u001b[0;34m'businesses'\u001b[0m\u001b[0;34m]\u001b[0m\u001b[0;34m)\u001b[0m\u001b[0;34m\u001b[0m\u001b[0m\n\u001b[0m\u001b[1;32m      4\u001b[0m \u001b[0mprint\u001b[0m\u001b[0;34m(\u001b[0m\u001b[0mlen\u001b[0m\u001b[0;34m(\u001b[0m\u001b[0mdf\u001b[0m\u001b[0;34m)\u001b[0m\u001b[0;34m)\u001b[0m \u001b[0;31m#Print how many rows\u001b[0m\u001b[0;34m\u001b[0m\u001b[0m\n\u001b[1;32m      5\u001b[0m \u001b[0mprint\u001b[0m\u001b[0;34m(\u001b[0m\u001b[0mdf\u001b[0m\u001b[0;34m.\u001b[0m\u001b[0mcolumns\u001b[0m\u001b[0;34m)\u001b[0m \u001b[0;31m#Print column names\u001b[0m\u001b[0;34m\u001b[0m\u001b[0m\n",
      "\u001b[0;31mNameError\u001b[0m: name 'response' is not defined"
     ]
    }
   ],
   "source": [
    "import pandas as pd\n",
    "\n",
    "df = pd.DataFrame.from_dict(response.json()['businesses'])\n",
    "print(len(df)) #Print how many rows\n",
    "print(df.columns) #Print column names\n",
    "df.head() "
   ]
  },
  {
   "cell_type": "markdown",
   "metadata": {},
   "source": [
    "## Exploratory Analysis\n",
    "\n",
    "Take the restaurants from the previous question and do an initial exploratory analysis. At minimum, this should include looking at the distribution of features such as price, rating and number of reviews as well as the relations between these dimensions."
   ]
  },
  {
   "cell_type": "code",
   "execution_count": 1,
   "metadata": {},
   "outputs": [
    {
     "ename": "NameError",
     "evalue": "name 'df' is not defined",
     "output_type": "error",
     "traceback": [
      "\u001b[0;31m\u001b[0m",
      "\u001b[0;31mNameError\u001b[0mTraceback (most recent call last)",
      "\u001b[0;32m<ipython-input-1-61485b31704e>\u001b[0m in \u001b[0;36m<module>\u001b[0;34m()\u001b[0m\n\u001b[1;32m      3\u001b[0m \u001b[0mget_ipython\u001b[0m\u001b[0;34m(\u001b[0m\u001b[0;34m)\u001b[0m\u001b[0;34m.\u001b[0m\u001b[0mrun_line_magic\u001b[0m\u001b[0;34m(\u001b[0m\u001b[0;34m'matplotlib'\u001b[0m\u001b[0;34m,\u001b[0m \u001b[0;34m'inline'\u001b[0m\u001b[0;34m)\u001b[0m\u001b[0;34m\u001b[0m\u001b[0m\n\u001b[1;32m      4\u001b[0m \u001b[0;34m\u001b[0m\u001b[0m\n\u001b[0;32m----> 5\u001b[0;31m \u001b[0mdf\u001b[0m\u001b[0;34m.\u001b[0m\u001b[0mprice\u001b[0m \u001b[0;34m=\u001b[0m \u001b[0mdf\u001b[0m\u001b[0;34m.\u001b[0m\u001b[0mprice\u001b[0m\u001b[0;34m.\u001b[0m\u001b[0mfillna\u001b[0m\u001b[0;34m(\u001b[0m\u001b[0mvalue\u001b[0m\u001b[0;34m=\u001b[0m\u001b[0;36m0\u001b[0m\u001b[0;34m)\u001b[0m\u001b[0;34m\u001b[0m\u001b[0m\n\u001b[0m\u001b[1;32m      6\u001b[0m \u001b[0mprice_dict\u001b[0m \u001b[0;34m=\u001b[0m \u001b[0;34m{\u001b[0m\u001b[0;34m\"$\"\u001b[0m\u001b[0;34m:\u001b[0m \u001b[0;36m1\u001b[0m\u001b[0;34m,\u001b[0m \u001b[0;34m\"$$\"\u001b[0m\u001b[0;34m:\u001b[0m\u001b[0;36m2\u001b[0m\u001b[0;34m,\u001b[0m \u001b[0;34m\"$$$\"\u001b[0m\u001b[0;34m:\u001b[0m \u001b[0;36m3\u001b[0m\u001b[0;34m,\u001b[0m \u001b[0;34m\"$$$$\"\u001b[0m\u001b[0;34m:\u001b[0m\u001b[0;36m4\u001b[0m\u001b[0;34m}\u001b[0m\u001b[0;34m\u001b[0m\u001b[0m\n\u001b[1;32m      7\u001b[0m \u001b[0mdf\u001b[0m\u001b[0;34m.\u001b[0m\u001b[0mprice\u001b[0m \u001b[0;34m=\u001b[0m \u001b[0mdf\u001b[0m\u001b[0;34m.\u001b[0m\u001b[0mprice\u001b[0m\u001b[0;34m.\u001b[0m\u001b[0mmap\u001b[0m\u001b[0;34m(\u001b[0m\u001b[0mprice_dict\u001b[0m\u001b[0;34m)\u001b[0m\u001b[0;34m\u001b[0m\u001b[0m\n",
      "\u001b[0;31mNameError\u001b[0m: name 'df' is not defined"
     ]
    }
   ],
   "source": [
    "#Your code here\n",
    "import matplotlib.pyplot as plt\n",
    "%matplotlib inline\n",
    "\n",
    "df.price = df.price.fillna(value=0)\n",
    "price_dict = {\"$\": 1, \"$$\":2, \"$$$\": 3, \"$$$$\":4}\n",
    "df.price = df.price.map(price_dict)\n",
    "\n",
    "pd.plotting.scatter_matrix(df[['price', 'rating', 'review_count']])"
   ]
  },
  {
   "cell_type": "markdown",
   "metadata": {},
   "source": [
    "## Mapping\n",
    "\n",
    "Look at the initial Yelp example and try and make a map using Folium of the restaurants you retrieved. Be sure to also add popups to the markers giving some basic information such as name, rating and price."
   ]
  },
  {
   "cell_type": "code",
   "execution_count": null,
   "metadata": {},
   "outputs": [],
   "source": [
    "#Your code here\n",
    "import folium\n",
    "\n",
    "lat_long = df['coordinates'].iloc[0]\n",
    "lat = lat_long['latitude']\n",
    "long = lat_long['longitude']\n",
    "yelp_map = folium.Map([lat, long])\n",
    "\n",
    "for row in df.index:\n",
    "    try:\n",
    "        lat_long = df['coordinates'][row]\n",
    "        lat = lat_long['latitude']\n",
    "        long = lat_long['longitude']\n",
    "        name = df['name'][row]\n",
    "        rating = df['rating'][row]\n",
    "        price = df['price'][row]\n",
    "        details = \"{}\\nPrice: {} Rating:{}\".format(name,str(price),str(rating))\n",
    "        popup = folium.Popup(details, parse_html=True)\n",
    "        marker = folium.Marker([lat, long], popup=popup)\n",
    "        marker.add_to(yelp_map)\n",
    "    except:\n",
    "        print('Hit error on row: {}'.format(row))\n",
    "yelp_map"
   ]
  },
  {
   "cell_type": "markdown",
   "metadata": {},
   "source": [
    "## Summary\n",
    "\n",
    "Nice work! In this lab, you synthesized your skills for the day, making multiple API calls to Yelp in order to paginate through a results set, performing some basic exploratory analysis and then creating a nice map visual to display the results! Well done!"
   ]
  }
 ],
 "metadata": {
  "kernelspec": {
   "display_name": "Python 3",
   "language": "python",
   "name": "python3"
  },
  "language_info": {
   "codemirror_mode": {
    "name": "ipython",
    "version": 3
   },
   "file_extension": ".py",
   "mimetype": "text/x-python",
   "name": "python",
   "nbconvert_exporter": "python",
   "pygments_lexer": "ipython3",
   "version": "3.6.6"
  }
 },
 "nbformat": 4,
 "nbformat_minor": 2
}
